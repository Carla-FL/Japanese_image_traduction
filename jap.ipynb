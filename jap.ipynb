{
 "cells": [
  {
   "cell_type": "code",
   "execution_count": 45,
   "id": "ba5494bc-8db9-4ed5-9f49-4628bc8b9b5a",
   "metadata": {},
   "outputs": [],
   "source": [
    "import os \n",
    "import cv2\n",
    "import pandas as pd\n",
    "import numpy as np\n",
    "from concurrent.futures import ThreadPoolExecutor\n",
    "import math"
   ]
  },
  {
   "cell_type": "code",
   "execution_count": 9,
   "id": "3429b50d-1582-41cf-9609-85405cff2c75",
   "metadata": {},
   "outputs": [],
   "source": [
    "from PIL import Image\n",
    "\n",
    "import matplotlib.pyplot as plt\n",
    "import numpy as np"
   ]
  },
  {
   "cell_type": "markdown",
   "id": "c597660e-b5b2-49a1-97b1-927c8e5f4c57",
   "metadata": {},
   "source": [
    "Tous les kanjis"
   ]
  },
  {
   "cell_type": "code",
   "execution_count": 10,
   "id": "77f97e8b-b4c0-488b-995c-4a1eb22f7e3b",
   "metadata": {
    "scrolled": true
   },
   "outputs": [
    {
     "name": "stdout",
     "output_type": "stream",
     "text": [
      "956\n",
      "['あ', 'い', 'う', 'え', 'お', 'か', 'が', 'き', 'ぎ', 'く', 'ぐ', 'け', 'げ', 'こ', 'ご', 'さ', 'ざ', 'し', 'じ', 'す', 'ず', 'せ', 'ぜ', 'そ', 'ぞ', 'た', 'だ', 'ち', 'ぢ', 'っ', 'つ', 'づ', 'て', 'で', 'と', 'ど', 'な', 'に', 'ぬ', 'ね', 'の', 'は', 'ば', 'ぱ', 'ひ', 'び', 'ぴ', 'ふ', 'ぶ', 'ぷ', 'へ', 'べ', 'ぺ', 'ほ', 'ぼ', 'ぽ', 'ま', 'み', 'む', 'め', 'も', 'ゃ', 'や', 'ゅ', 'ゆ', 'ょ', 'よ', 'ら', 'り', 'る', 'れ', 'ろ', 'わ', 'を', 'ん', '一', '丁', '七', '万', '三', '上', '下', '不', '世', '両', '中', '主', '久', '乗', '九', '予', '争', '事', '二', '五', '交', '京', '人', '仁', '今', '仏', '仕', '他', '付', '代', '令', '以', '仮', '件', '任', '休', '会', '伝', '似', '位', '低', '住', '体', '何', '余', '作', '使', '例', '供', '依', '価', '便', '係', '俗', '保', '信', '修', '俵', '倉', '個', '倍', '候', '借', '停', '健', '側', '備', '働', '像', '億', '元', '兄', '先', '光', '児', '党', '入', '全', '八', '公', '六', '共', '兵', '具', '典', '兼', '内', '円', '再', '写', '冬', '冷', '処', '出', '刀', '分', '切', '刊', '列', '初', '判', '別', '利', '制', '刷', '券', '則', '前', '創', '力', '功', '加', '助', '努', '労', '効', '勇', '勉', '動', '務', '勝', '勢', '勤', '勧', '包', '化', '北', '区', '医', '十', '千', '午', '半', '卒', '協', '南', '単', '博', '印', '厚', '原', '厳', '去', '参', '友', '反', '収', '取', '受', '口', '古', '句', '可', '台', '史', '右', '号', '司', '各', '合', '同', '名', '后', '向', '君', '否', '告', '周', '味', '命', '和', '品', '員', '唱', '商', '問', '善', '喜', '営', '器', '四', '回', '因', '団', '囲', '図', '固', '国', '園', '土', '圧', '在', '地', '坂', '均', '型', '基', '堂', '報', '場', '塩', '境', '墓', '増', '士', '声', '壱', '売', '変', '夏', '夕', '外', '多', '夜', '大', '天', '太', '夫', '央', '失', '奮', '女', '妹', '妻', '姉', '始', '委', '婦', '子', '字', '存', '孝', '季', '学', '孫', '守', '安', '完', '宗', '官', '定', '実', '客', '宣', '室', '宮', '害', '家', '容', '宿', '寄', '富', '寒', '察', '寺', '対', '専', '尊', '導', '小', '少', '就', '局', '居', '届', '屋', '展', '属', '山', '岩', '岸', '島', '川', '州', '工', '左', '差', '己', '市', '布', '希', '師', '席', '帯', '帰', '帳', '常', '幅', '平', '年', '幸', '幹', '広', '序', '底', '店', '府', '度', '庫', '庭', '康', '延', '建', '弁', '式', '弐', '引', '弟', '弱', '張', '強', '当', '形', '役', '往', '待', '律', '後', '徒', '従', '得', '復', '徳', '心', '必', '志', '応', '忠', '快', '念', '思', '急', '性', '恩', '息', '悪', '悲', '情', '想', '意', '愛', '感', '態', '慣', '憲', '成', '我', '戦', '戸', '所', '手', '才', '打', '承', '技', '投', '折', '招', '拝', '拡', '拾', '持', '指', '挙', '授', '採', '接', '推', '提', '損', '支', '改', '放', '政', '故', '救', '敗', '教', '散', '敬', '数', '整', '敵', '文', '料', '断', '新', '方', '旅', '族', '旗', '日', '旧', '早', '明', '易', '星', '春', '昨', '昭', '是', '昼', '時', '景', '晴', '暑', '暗', '暴', '曜', '曲', '書', '最', '月', '有', '服', '望', '朝', '期', '木', '未', '末', '本', '材', '村', '条', '来', '東', '板', '林', '果', '柱', '査', '栄', '校', '株', '根', '格', '案', '械', '森', '植', '検', '業', '極', '楽', '構', '様', '標', '権', '横', '橋', '機', '欠', '次', '欲', '歌', '歓', '止', '正', '武', '歩', '歯', '歴', '死', '残', '殺', '母', '毎', '毒', '比', '毛', '氏', '民', '気', '水', '氷', '永', '求', '池', '決', '汽', '河', '油', '治', '法', '波', '注', '泳', '洋', '活', '派', '流', '浅', '浴', '海', '消', '液', '深', '混', '清', '済', '減', '温', '測', '港', '湖', '湯', '満', '準', '漁', '演', '漢', '潔', '火', '災', '炭', '点', '無', '然', '焼', '照', '熱', '燃', '燈', '父', '版', '牛', '牧', '物', '特', '犬', '犯', '状', '独', '率', '玉', '王', '現', '球', '理', '生', '産', '用', '田', '由', '申', '男', '町', '画', '界', '畑', '留', '略', '番', '異', '疑', '病', '発', '登', '白', '百', '的', '皇', '皮', '益', '盟', '目', '直', '相', '省', '県', '真', '眼', '着', '知', '短', '石', '研', '破', '確', '示', '礼', '社', '祖', '祝', '神', '票', '祭', '禁', '福', '私', '秋', '科', '秒', '称', '移', '程', '税', '種', '穀', '積', '究', '空', '立', '章', '童', '競', '竹', '第', '筆', '等', '答', '策', '算', '管', '節', '築', '米', '粉', '精', '糸', '系', '紀', '約', '納', '純', '紙', '級', '素', '細', '終', '組', '経', '結', '給', '統', '絵', '絶', '絹', '続', '綿', '総', '緑', '線', '編', '練', '績', '織', '罪', '置', '美', '群', '義', '習', '老', '考', '者', '耕', '耳', '聖', '聞', '職', '肉', '肥', '育', '胃', '能', '脈', '腸', '臣', '臨', '自', '至', '興', '舌', '舎', '航', '船', '良', '色', '花', '芸', '芽', '苦', '英', '茶', '草', '荷', '菜', '落', '葉', '著', '蔵', '薬', '虫', '蚕', '血', '衆', '行', '術', '衛', '表', '補', '製', '複', '西', '要', '見', '規', '視', '覚', '親', '観', '角', '解', '言', '計', '討', '訓', '記', '設', '許', '訳', '証', '評', '詞', '試', '詩', '話', '認', '語', '誠', '誤', '説', '読', '課', '調', '談', '論', '諸', '講', '謝', '識', '議', '護', '谷', '豊', '象', '貝', '負', '財', '貧', '貨', '責', '貯', '貴', '買', '貸', '費', '貿', '賀', '賃', '資', '賛', '賞', '質', '赤', '走', '起', '足', '路', '身', '車', '軍', '転', '軽', '輪', '輸', '辞', '農', '辺', '近', '返', '述', '迷', '追', '退', '送', '逆', '通', '速', '造', '連', '週', '進', '遊', '運', '過', '道', '達', '遠', '適', '選', '遺', '郡', '部', '都', '配', '酒', '酸', '釈', '里', '重', '野', '量', '金', '鉄', '鉱', '銀', '銅', '銭', '録', '鏡', '長', '門', '開', '間', '関', '防', '限', '陛', '院', '除', '陸', '険', '陽', '隊', '階', '際', '集', '雑', '難', '雨', '雪', '雲', '電', '需', '青', '静', '非', '面', '革', '音', '順', '預', '領', '頭', '題', '額', '顔', '願', '類', '風', '飛', '食', '飯', '飲', '養', '館', '首', '馬', '駅', '験', '高', '魚', '鳥', '鳴', '麦', '黄', '黒', '鼻']\n"
     ]
    }
   ],
   "source": [
    "\n",
    "path = \"ETL8G\"\n",
    "files = os.listdir(path)\n",
    "dico = []\n",
    "for i in files:\n",
    "    f = i.split(\"x\")\n",
    "    if len(f) == 2:\n",
    "        dico.append(chr(int(f[1], 16)))\n",
    "print(len(dico))\n",
    "print(dico)"
   ]
  },
  {
   "cell_type": "markdown",
   "id": "75e7822e-bd37-452e-b823-4efd4ff1d6ad",
   "metadata": {},
   "source": [
    "Exemple 1 image"
   ]
  },
  {
   "cell_type": "code",
   "execution_count": 33,
   "id": "24641dd4-dce7-4bba-963b-f388acdfd2a8",
   "metadata": {},
   "outputs": [
    {
     "data": {
      "image/png": "[encoded data removed]",
      "text/plain": [
       "<PIL.PngImagePlugin.PngImageFile image mode=L size=128x127>"
      ]
     },
     "metadata": {},
     "output_type": "display_data"
    },
    {
     "data": {
      "text/plain": [
       "array([[255, 255, 255, ..., 255, 255, 255],\n",
       "       [255, 255, 255, ..., 255, 255, 255],\n",
       "       [255, 255, 255, ..., 255, 255, 255],\n",
       "       ...,\n",
       "       [255, 255, 255, ..., 255, 255, 255],\n",
       "       [255, 255, 255, ..., 255, 255, 255],\n",
       "       [255, 255, 255, ..., 255, 255, 255]], dtype=uint8)"
      ]
     },
     "metadata": {},
     "output_type": "display_data"
    },
    {
     "name": "stdout",
     "output_type": "stream",
     "text": [
      "CPU times: total: 15.6 ms\n",
      "Wall time: 22.9 ms\n"
     ]
    },
    {
     "data": {
      "image/png": "[encoded data removed]",
      "text/plain": [
       "<Figure size 640x480 with 1 Axes>"
      ]
     },
     "metadata": {},
     "output_type": "display_data"
    }
   ],
   "source": [
    "%%time\n",
    "img = np.asarray(Image.open(path+\"/0x4e00/000862.png\"))\n",
    "display(Image.open(path+\"/0x4e00/000862.png\"))\n",
    "display(img)\n",
    "imgplot = plt.imshow(img)"
   ]
  },
  {
   "cell_type": "markdown",
   "id": "5c5208aa-7558-413e-8799-44126a56b71f",
   "metadata": {},
   "source": [
    "## Vérifier que toutes les images sont de même taille"
   ]
  },
  {
   "cell_type": "code",
   "execution_count": null,
   "id": "e57bea25-c20d-4f0e-85ea-b4a2aa6100ba",
   "metadata": {},
   "outputs": [],
   "source": [
    "from multiprocessing import Process\n",
    "    #this is the function to be parallelized\n",
    "    def image_load_here(image_path):\n",
    "        pass \n",
    "\n",
    "if __name__ == '__main__':\n",
    "    #Start the multiprocesses and provide your dataset.\n",
    "    p = Process(target=image_load_here,['img1', 'img2', 'img3', 'img4'])\n",
    "    p.start()\n",
    "    p.join()"
   ]
  },
  {
   "cell_type": "code",
   "execution_count": 35,
   "id": "e14357b3-bf3e-48fb-b658-66d96957a775",
   "metadata": {
    "scrolled": true
   },
   "outputs": [
    {
     "name": "stdout",
     "output_type": "stream",
     "text": [
      "finito\n",
      "CPU times: total: 1min 20s\n",
      "Wall time: 4min 36s\n"
     ]
    }
   ],
   "source": [
    "%%time\n",
    "data = []\n",
    "\n",
    "for folder_name in os.listdir('ETL8G'):\n",
    "    folder_path = os.path.join('ETL8G', folder_name)\n",
    "    if os.path.isdir(folder_path):\n",
    "        # Parcourir les fichiers dans le dossier\n",
    "        for filename in os.listdir(folder_path):\n",
    "            file_path = os.path.join(folder_path, filename)\n",
    "            # Vérifier si c'est un fichier image\n",
    "            if filename.endswith('.png'):\n",
    "                # Charger l'image avec PIL\n",
    "                image =  np.asarray(Image.open(file_path))\n",
    "                # Récupérer la taille de l'image\n",
    "                image_size = image.size\n",
    "                # Ajouter les données au DataFrame\n",
    "                data.append({'Image': image, 'Shape': image_size, 'Kanji': folder_name})\n",
    "print(\"finito\")"
   ]
  },
  {
   "cell_type": "code",
   "execution_count": 36,
   "id": "7bca3691-bab9-4236-b371-3b1582c7d5fd",
   "metadata": {},
   "outputs": [],
   "source": [
    "df = pd.DataFrame(data)"
   ]
  },
  {
   "cell_type": "code",
   "execution_count": 37,
   "id": "48ea4624-d0c4-4179-9700-3f2aec7cdae4",
   "metadata": {},
   "outputs": [
    {
     "data": {
      "text/html": [
       "<div>\n",
       "<style scoped>\n",
       "    .dataframe tbody tr th:only-of-type {\n",
       "        vertical-align: middle;\n",
       "    }\n",
       "\n",
       "    .dataframe tbody tr th {\n",
       "        vertical-align: top;\n",
       "    }\n",
       "\n",
       "    .dataframe thead th {\n",
       "        text-align: right;\n",
       "    }\n",
       "</style>\n",
       "<table border=\"1\" class=\"dataframe\">\n",
       "  <thead>\n",
       "    <tr style=\"text-align: right;\">\n",
       "      <th></th>\n",
       "      <th>Image</th>\n",
       "      <th>Shape</th>\n",
       "      <th>Kanji</th>\n",
       "    </tr>\n",
       "  </thead>\n",
       "  <tbody>\n",
       "    <tr>\n",
       "      <th>0</th>\n",
       "      <td>[[255, 255, 255, 255, 255, 255, 255, 255, 255,...</td>\n",
       "      <td>16256</td>\n",
       "      <td>0x3042</td>\n",
       "    </tr>\n",
       "    <tr>\n",
       "      <th>1</th>\n",
       "      <td>[[255, 255, 255, 255, 255, 255, 255, 255, 255,...</td>\n",
       "      <td>16256</td>\n",
       "      <td>0x3042</td>\n",
       "    </tr>\n",
       "    <tr>\n",
       "      <th>2</th>\n",
       "      <td>[[255, 255, 255, 255, 255, 255, 255, 255, 255,...</td>\n",
       "      <td>16256</td>\n",
       "      <td>0x3042</td>\n",
       "    </tr>\n",
       "    <tr>\n",
       "      <th>3</th>\n",
       "      <td>[[255, 255, 255, 255, 255, 255, 255, 255, 255,...</td>\n",
       "      <td>16256</td>\n",
       "      <td>0x3042</td>\n",
       "    </tr>\n",
       "    <tr>\n",
       "      <th>4</th>\n",
       "      <td>[[255, 255, 255, 255, 255, 255, 255, 255, 255,...</td>\n",
       "      <td>16256</td>\n",
       "      <td>0x3042</td>\n",
       "    </tr>\n",
       "    <tr>\n",
       "      <th>...</th>\n",
       "      <td>...</td>\n",
       "      <td>...</td>\n",
       "      <td>...</td>\n",
       "    </tr>\n",
       "    <tr>\n",
       "      <th>153911</th>\n",
       "      <td>[[255, 255, 255, 255, 255, 255, 255, 255, 255,...</td>\n",
       "      <td>16256</td>\n",
       "      <td>0x9f3b</td>\n",
       "    </tr>\n",
       "    <tr>\n",
       "      <th>153912</th>\n",
       "      <td>[[255, 255, 255, 255, 255, 255, 255, 255, 255,...</td>\n",
       "      <td>16256</td>\n",
       "      <td>0x9f3b</td>\n",
       "    </tr>\n",
       "    <tr>\n",
       "      <th>153913</th>\n",
       "      <td>[[255, 255, 255, 255, 255, 255, 255, 255, 255,...</td>\n",
       "      <td>16256</td>\n",
       "      <td>0x9f3b</td>\n",
       "    </tr>\n",
       "    <tr>\n",
       "      <th>153914</th>\n",
       "      <td>[[255, 255, 255, 255, 255, 255, 255, 255, 255,...</td>\n",
       "      <td>16256</td>\n",
       "      <td>0x9f3b</td>\n",
       "    </tr>\n",
       "    <tr>\n",
       "      <th>153915</th>\n",
       "      <td>[[255, 255, 255, 255, 255, 255, 255, 255, 255,...</td>\n",
       "      <td>16256</td>\n",
       "      <td>0x9f3b</td>\n",
       "    </tr>\n",
       "  </tbody>\n",
       "</table>\n",
       "<p>153916 rows × 3 columns</p>\n",
       "</div>"
      ],
      "text/plain": [
       "                                                    Image  Shape   Kanji\n",
       "0       [[255, 255, 255, 255, 255, 255, 255, 255, 255,...  16256  0x3042\n",
       "1       [[255, 255, 255, 255, 255, 255, 255, 255, 255,...  16256  0x3042\n",
       "2       [[255, 255, 255, 255, 255, 255, 255, 255, 255,...  16256  0x3042\n",
       "3       [[255, 255, 255, 255, 255, 255, 255, 255, 255,...  16256  0x3042\n",
       "4       [[255, 255, 255, 255, 255, 255, 255, 255, 255,...  16256  0x3042\n",
       "...                                                   ...    ...     ...\n",
       "153911  [[255, 255, 255, 255, 255, 255, 255, 255, 255,...  16256  0x9f3b\n",
       "153912  [[255, 255, 255, 255, 255, 255, 255, 255, 255,...  16256  0x9f3b\n",
       "153913  [[255, 255, 255, 255, 255, 255, 255, 255, 255,...  16256  0x9f3b\n",
       "153914  [[255, 255, 255, 255, 255, 255, 255, 255, 255,...  16256  0x9f3b\n",
       "153915  [[255, 255, 255, 255, 255, 255, 255, 255, 255,...  16256  0x9f3b\n",
       "\n",
       "[153916 rows x 3 columns]"
      ]
     },
     "execution_count": 37,
     "metadata": {},
     "output_type": "execute_result"
    }
   ],
   "source": [
    "df"
   ]
  },
  {
   "cell_type": "code",
   "execution_count": 42,
   "id": "d5cf37dc-1ab0-4173-bde6-46383e2deff7",
   "metadata": {},
   "outputs": [
    {
     "name": "stdout",
     "output_type": "stream",
     "text": [
      "Kanji\n",
      "0x3042    161\n",
      "0x76f4    161\n",
      "0x7591    161\n",
      "0x75c5    161\n",
      "0x767a    161\n",
      "         ... \n",
      "0x5bb6    161\n",
      "0x5bb9    161\n",
      "0x5bbf    161\n",
      "0x5bc4    161\n",
      "0x9f3b    161\n",
      "Name: count, Length: 956, dtype: int64\n",
      "Shape\n",
      "16256    153916\n",
      "Name: count, dtype: int64\n"
     ]
    }
   ],
   "source": [
    "print(df['Kanji'].value_counts())\n",
    "print(df['Shape'].value_counts())"
   ]
  },
  {
   "cell_type": "code",
   "execution_count": 50,
   "id": "94443ac8-662f-46fd-aec4-4f11a062ce3c",
   "metadata": {},
   "outputs": [
    {
     "name": "stdout",
     "output_type": "stream",
     "text": [
      "16256\n"
     ]
    }
   ],
   "source": [
    "df['Image'][156].shape\n",
    "print(127*128)"
   ]
  },
  {
   "cell_type": "code",
   "execution_count": null,
   "id": "991e65a0-bff5-43a3-b1bd-e632056b5e74",
   "metadata": {},
   "outputs": [],
   "source": []
  }
 ],
 "metadata": {
  "kernelspec": {
   "display_name": "etljapKernel",
   "language": "python",
   "name": "etljapkernel"
  },
  "language_info": {
   "codemirror_mode": {
    "name": "ipython",
    "version": 3
   },
   "file_extension": ".py",
   "mimetype": "text/x-python",
   "name": "python",
   "nbconvert_exporter": "python",
   "pygments_lexer": "ipython3",
   "version": "3.11.1"
  }
 },
 "nbformat": 4,
 "nbformat_minor": 5
}
